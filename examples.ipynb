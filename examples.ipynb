{
 "cells": [
  {
   "cell_type": "markdown",
   "metadata": {},
   "source": [
    "#Robotics toolbox in Julia language\n",
    "\n",
    "\n",
    "This toolbox it's inspired in the book: \"*Robotics,Vision and Control*\" by Peter Corke"
   ]
  },
  {
   "cell_type": "code",
   "execution_count": 14,
   "metadata": {
    "collapsed": false
   },
   "outputs": [],
   "source": [
    "type Pose2D <: Number\n",
    "    x::Real\n",
    "    y::Real\n",
    "    θ::Real\n",
    "    ξ::Array{Float64,2}\n",
    "    \n",
    "    function Pose2D(x::Real,y::Real,θ::Real)\n",
    "    \n",
    "        ξ = [cos(θ) -sin(θ) x;sin(θ) cos(θ) y;0.0 0.0 1.0]\n",
    "        new(x,y,θ,ξ)\n",
    "    end\n",
    "    \n",
    "end"
   ]
  },
  {
   "cell_type": "code",
   "execution_count": 15,
   "metadata": {
    "collapsed": false
   },
   "outputs": [],
   "source": [
    "import Base.show"
   ]
  },
  {
   "cell_type": "code",
   "execution_count": 16,
   "metadata": {
    "collapsed": false
   },
   "outputs": [
    {
     "data": {
      "text/plain": [
       "⊖ (generic function with 1 method)"
      ]
     },
     "execution_count": 16,
     "metadata": {},
     "output_type": "execute_result"
    }
   ],
   "source": [
    "function ⊖(p::Pose2D) \n",
    "    \n",
    "    p.ξ[1:2,1:2] = p.ξ[1:2,1:2]'\n",
    "    \n",
    "    p.ξ[1:2,3] = -p.ξ[1:2,1:2]' * p.ξ[1:2,3]\n",
    "    \n",
    "    return p\n",
    "end"
   ]
  },
  {
   "cell_type": "code",
   "execution_count": 17,
   "metadata": {
    "collapsed": false
   },
   "outputs": [
    {
     "data": {
      "text/plain": [
       "show (generic function with 86 methods)"
      ]
     },
     "execution_count": 17,
     "metadata": {},
     "output_type": "execute_result"
    }
   ],
   "source": [
    "function show(io::IO,p::Pose2D)\n",
    "    print(io,p.ξ)\n",
    "end"
   ]
  },
  {
   "cell_type": "code",
   "execution_count": 18,
   "metadata": {
    "collapsed": false
   },
   "outputs": [
    {
     "data": {
      "text/plain": [
       "⊕ (generic function with 1 method)"
      ]
     },
     "execution_count": 18,
     "metadata": {},
     "output_type": "execute_result"
    }
   ],
   "source": [
    "function ⊕(p1::Pose2D, p2::Pose2D)\n",
    "    p3 = Pose2D(0,0,0)\n",
    "    p3.ξ = p1.ξ * p2.ξ\n",
    "    p3.x = p3.ξ[1,3]\n",
    "    p3.y = p3.ξ[2,3]\n",
    "    p3.θ = p1.θ + p2.θ\n",
    "return p3\n",
    "end"
   ]
  },
  {
   "cell_type": "code",
   "execution_count": 19,
   "metadata": {
    "collapsed": false
   },
   "outputs": [
    {
     "data": {
      "text/plain": [
       "3x3 Array{Float64,2}:\n",
       " 0.866025  -0.5       1.0\n",
       " 0.5        0.866025  2.0\n",
       " 0.0        0.0       1.0"
      ]
     },
     "execution_count": 19,
     "metadata": {},
     "output_type": "execute_result"
    }
   ],
   "source": [
    "ξ₁ = Pose2D(1.0,2.0, deg2rad(30))"
   ]
  },
  {
   "cell_type": "code",
   "execution_count": 20,
   "metadata": {
    "collapsed": false
   },
   "outputs": [
    {
     "data": {
      "text/plain": [
       "3x3 Array{Float64,2}:\n",
       "  0.866025  0.5        0.133975\n",
       " -0.5       0.866025  -2.23205 \n",
       "  0.0       0.0        1.0     "
      ]
     },
     "execution_count": 20,
     "metadata": {},
     "output_type": "execute_result"
    }
   ],
   "source": [
    "⊖(ξ₁)"
   ]
  },
  {
   "cell_type": "code",
   "execution_count": 21,
   "metadata": {
    "collapsed": false
   },
   "outputs": [
    {
     "data": {
      "text/plain": [
       "3x3 Array{Float64,2}:\n",
       " 0.5       -0.866025  0.866025\n",
       " 0.866025   0.5       4.23205 \n",
       " 0.0        0.0       1.0     "
      ]
     },
     "execution_count": 21,
     "metadata": {},
     "output_type": "execute_result"
    }
   ],
   "source": [
    "⊖(ξ₁) ⊕ ξ₁"
   ]
  },
  {
   "cell_type": "code",
   "execution_count": 22,
   "metadata": {
    "collapsed": false
   },
   "outputs": [
    {
     "data": {
      "text/plain": [
       "3x3 Array{Float64,2}:\n",
       " 1.0  -0.0  2.0\n",
       " 0.0   1.0  1.0\n",
       " 0.0   0.0  1.0"
      ]
     },
     "execution_count": 22,
     "metadata": {},
     "output_type": "execute_result"
    }
   ],
   "source": [
    "ξ₂ = Pose2D(2,1,0)"
   ]
  },
  {
   "cell_type": "code",
   "execution_count": 23,
   "metadata": {
    "collapsed": false
   },
   "outputs": [
    {
     "data": {
      "text/plain": [
       "3x3 Array{Float64,2}:\n",
       " 0.866025  -0.5       2.23205\n",
       " 0.5        0.866025  3.86603\n",
       " 0.0        0.0       1.0    "
      ]
     },
     "execution_count": 23,
     "metadata": {},
     "output_type": "execute_result"
    }
   ],
   "source": [
    "ξ₃ = ξ₁ ⊕ ξ₂"
   ]
  },
  {
   "cell_type": "code",
   "execution_count": 24,
   "metadata": {
    "collapsed": false
   },
   "outputs": [
    {
     "data": {
      "text/plain": [
       "3x3 Array{Float64,2}:\n",
       " 0.866025  -0.5       3.0\n",
       " 0.5        0.866025  3.0\n",
       " 0.0        0.0       1.0"
      ]
     },
     "execution_count": 24,
     "metadata": {},
     "output_type": "execute_result"
    }
   ],
   "source": [
    "ξ₄ = ξ₂ ⊕ ξ₁"
   ]
  },
  {
   "cell_type": "code",
   "execution_count": 25,
   "metadata": {
    "collapsed": false
   },
   "outputs": [
    {
     "data": {
      "text/plain": [
       "1x3 Array{Int32,2}:\n",
       " 3  2  1"
      ]
     },
     "execution_count": 25,
     "metadata": {},
     "output_type": "execute_result"
    }
   ],
   "source": [
    "P = [3 2 1]"
   ]
  },
  {
   "cell_type": "code",
   "execution_count": null,
   "metadata": {
    "collapsed": true
   },
   "outputs": [],
   "source": []
  }
 ],
 "metadata": {
  "kernelspec": {
   "display_name": "Julia 0.3.8",
   "language": "julia",
   "name": "julia-0.3"
  },
  "language_info": {
   "name": "julia",
   "version": "0.3.8"
  }
 },
 "nbformat": 4,
 "nbformat_minor": 0
}
